{
  "nbformat": 4,
  "nbformat_minor": 0,
  "metadata": {
    "kernelspec": {
      "display_name": "Python 3",
      "language": "python",
      "name": "python3"
    },
    "language_info": {
      "codemirror_mode": {
        "name": "ipython",
        "version": 3
      },
      "file_extension": ".py",
      "mimetype": "text/x-python",
      "name": "python",
      "nbconvert_exporter": "python",
      "pygments_lexer": "ipython3",
      "version": "3.6.5"
    },
    "colab": {
      "name": "tossicitàpesci.ipynb",
      "provenance": [],
      "collapsed_sections": [
        "ovCVMiGFIW-0",
        "NLDkLmynIsTs"
      ],
      "include_colab_link": true
    }
  },
  "cells": [
    {
      "cell_type": "markdown",
      "metadata": {
        "id": "view-in-github",
        "colab_type": "text"
      },
      "source": [
        "<a href=\"https://colab.research.google.com/github/mattialeonessi/progetto-DIA/blob/master/tossicit%C3%A0pesci.ipynb\" target=\"_parent\"><img src=\"https://colab.research.google.com/assets/colab-badge.svg\" alt=\"Open In Colab\"/></a>"
      ]
    },
    {
      "cell_type": "markdown",
      "metadata": {
        "id": "_fwCeFhjlZt7",
        "colab_type": "text"
      },
      "source": [
        "# ***PREVISIONE TOSSICITÀ ACQUATICA ACUTA QUANTITATIVA NEI CONFRONTI DEL PESCE Pimephales promelas***\n",
        "Programmazione di Applicazioni Data Intensive\n",
        "Laurea in Ingegneria e Scienze Informatiche\n",
        "DISI - Università di Bologna, Cesena\n",
        "\n",
        "Mattia Leonessi\n",
        "\n",
        "Citazioni\n",
        "\n",
        "*   M. Cassotti, D. Ballabio, R. Todeschini, V. Consonni. A similarity-based QSAR model for predicting acute toxicity towards the fathead minnow (Pimephales promelas), SAR and QSAR in Environmental Research (2015), 26, 217-243; doi: 10.1080/1062936X.2015.1018938\n",
        "\n",
        "\n"
      ]
    },
    {
      "cell_type": "markdown",
      "metadata": {
        "id": "Cpr3sCkaIq1o",
        "colab_type": "text"
      },
      "source": [
        "# ***Descrizione del problema e comprensione dei dati***\n",
        "\n",
        "Questo set di dati è stato utilizzato per sviluppare modelli QSAR di regressione quantitativa per prevedere la tossicità acquatica acuta nei confronti dei pesci Pimephales promelas.\n",
        "\n",
        "\n",
        " Carichiamo le librerie per effettuare operazioni sui dati:\n",
        "\n",
        "\n",
        "*   numpy per creare e operare su array a N dimensioni\n",
        "*   pandas per caricare e manipolare dati tabulari\n",
        "*   matplotlib per creare grafici\n",
        "\n",
        "Importiamo le librerie usando i loro alias convenzionali e abilitando l'inserimento dei grafici direttamente nel notebook\n",
        "\n",
        "\n",
        "\n",
        "\n",
        "\n",
        "\n"
      ]
    },
    {
      "cell_type": "code",
      "metadata": {
        "id": "9HU2L6_I4BF8",
        "colab_type": "code",
        "colab": {}
      },
      "source": [
        "import numpy as np\n",
        "import pandas as pd\n",
        "import matplotlib.pyplot as plt\n",
        "%matplotlib inline"
      ],
      "execution_count": null,
      "outputs": []
    },
    {
      "cell_type": "markdown",
      "metadata": {
        "id": "p4M8EHwbLGYf",
        "colab_type": "text"
      },
      "source": [
        "Carichiamo il dataset ottenuto da [UCI](https://archive.ics.uci.edu/ml/datasets/QSAR+fish+toxicity).\n",
        "\n",
        "***Significato delle feature***\n",
        "\n",
        "Il dataset contiene 7 variabili, 6 indipendenti e 1 dipendente:\n",
        "\n",
        "\n",
        "1.   CIC0: indici di informazione\n",
        "2.   SM1_DZ: descrittori di base\n",
        "3.   GATS1i: autocorrelazioni 2D\n",
        "4.   NdsCH: conteggi di tipo atomico\n",
        "5.   NdssC: conteggi di tipo atomico\n",
        "6.   MLOGP: proprietà molecolari\n",
        "\n",
        "la variabile dipendente da predire è:\n",
        "\n",
        "7.   LC50: concentrazione che provoca la morte nel 50% dei pesci test\n",
        "\n",
        "Sono raccolte 908 osservazioni, non ci sono valori nulli.\n",
        "\n",
        "\n",
        "\n",
        "\n",
        "\n",
        "\n",
        "\n"
      ]
    },
    {
      "cell_type": "code",
      "metadata": {
        "id": "c0rQqOQ64BF4",
        "colab_type": "code",
        "colab": {}
      },
      "source": [
        "import os.path\n",
        "if not os.path.exists(\"fish_toxicity.csv\"):\n",
        "    from urllib.request import urlretrieve\n",
        "    urlretrieve(\"https://archive.ics.uci.edu/ml/machine-learning-databases/00504/qsar_fish_toxicity.csv\", \n",
        "                \"fish_toxicity.csv\")"
      ],
      "execution_count": null,
      "outputs": []
    },
    {
      "cell_type": "code",
      "metadata": {
        "id": "BNN_xqdQ4BF-",
        "colab_type": "code",
        "colab": {
          "base_uri": "https://localhost:8080/",
          "height": 34
        },
        "outputId": "4c9f068e-aa30-43f9-db97-207f81f21e1a"
      },
      "source": [
        "data = pd.read_csv(\"fish_toxicity.csv\", header=None, sep=\";\")\n",
        "data.columns = \"CIC0 SM1_Dz GATS1i NdsCH NdssC MLOGP LC50\".split()\n",
        "data.shape"
      ],
      "execution_count": null,
      "outputs": [
        {
          "output_type": "execute_result",
          "data": {
            "text/plain": [
              "(908, 7)"
            ]
          },
          "metadata": {
            "tags": []
          },
          "execution_count": 167
        }
      ]
    },
    {
      "cell_type": "code",
      "metadata": {
        "id": "h0tj1SZG4BGC",
        "colab_type": "code",
        "colab": {
          "base_uri": "https://localhost:8080/",
          "height": 195
        },
        "outputId": "6b1c885d-2bee-4ecc-c2f1-719bc64363c5"
      },
      "source": [
        "data.head(5)"
      ],
      "execution_count": null,
      "outputs": [
        {
          "output_type": "execute_result",
          "data": {
            "text/html": [
              "<div>\n",
              "<style scoped>\n",
              "    .dataframe tbody tr th:only-of-type {\n",
              "        vertical-align: middle;\n",
              "    }\n",
              "\n",
              "    .dataframe tbody tr th {\n",
              "        vertical-align: top;\n",
              "    }\n",
              "\n",
              "    .dataframe thead th {\n",
              "        text-align: right;\n",
              "    }\n",
              "</style>\n",
              "<table border=\"1\" class=\"dataframe\">\n",
              "  <thead>\n",
              "    <tr style=\"text-align: right;\">\n",
              "      <th></th>\n",
              "      <th>CIC0</th>\n",
              "      <th>SM1_Dz</th>\n",
              "      <th>GATS1i</th>\n",
              "      <th>NdsCH</th>\n",
              "      <th>NdssC</th>\n",
              "      <th>MLOGP</th>\n",
              "      <th>LC50</th>\n",
              "    </tr>\n",
              "  </thead>\n",
              "  <tbody>\n",
              "    <tr>\n",
              "      <th>0</th>\n",
              "      <td>3.260</td>\n",
              "      <td>0.829</td>\n",
              "      <td>1.676</td>\n",
              "      <td>0</td>\n",
              "      <td>1</td>\n",
              "      <td>1.453</td>\n",
              "      <td>3.770</td>\n",
              "    </tr>\n",
              "    <tr>\n",
              "      <th>1</th>\n",
              "      <td>2.189</td>\n",
              "      <td>0.580</td>\n",
              "      <td>0.863</td>\n",
              "      <td>0</td>\n",
              "      <td>0</td>\n",
              "      <td>1.348</td>\n",
              "      <td>3.115</td>\n",
              "    </tr>\n",
              "    <tr>\n",
              "      <th>2</th>\n",
              "      <td>2.125</td>\n",
              "      <td>0.638</td>\n",
              "      <td>0.831</td>\n",
              "      <td>0</td>\n",
              "      <td>0</td>\n",
              "      <td>1.348</td>\n",
              "      <td>3.531</td>\n",
              "    </tr>\n",
              "    <tr>\n",
              "      <th>3</th>\n",
              "      <td>3.027</td>\n",
              "      <td>0.331</td>\n",
              "      <td>1.472</td>\n",
              "      <td>1</td>\n",
              "      <td>0</td>\n",
              "      <td>1.807</td>\n",
              "      <td>3.510</td>\n",
              "    </tr>\n",
              "    <tr>\n",
              "      <th>4</th>\n",
              "      <td>2.094</td>\n",
              "      <td>0.827</td>\n",
              "      <td>0.860</td>\n",
              "      <td>0</td>\n",
              "      <td>0</td>\n",
              "      <td>1.886</td>\n",
              "      <td>5.390</td>\n",
              "    </tr>\n",
              "  </tbody>\n",
              "</table>\n",
              "</div>"
            ],
            "text/plain": [
              "    CIC0  SM1_Dz  GATS1i  NdsCH  NdssC  MLOGP   LC50\n",
              "0  3.260   0.829   1.676      0      1  1.453  3.770\n",
              "1  2.189   0.580   0.863      0      0  1.348  3.115\n",
              "2  2.125   0.638   0.831      0      0  1.348  3.531\n",
              "3  3.027   0.331   1.472      1      0  1.807  3.510\n",
              "4  2.094   0.827   0.860      0      0  1.886  5.390"
            ]
          },
          "metadata": {
            "tags": []
          },
          "execution_count": 168
        }
      ]
    },
    {
      "cell_type": "code",
      "metadata": {
        "id": "A9T0Ye92J7sE",
        "colab_type": "code",
        "colab": {
          "base_uri": "https://localhost:8080/",
          "height": 252
        },
        "outputId": "652a4fa3-6181-4521-996f-4a078410495a"
      },
      "source": [
        "data.info()"
      ],
      "execution_count": null,
      "outputs": [
        {
          "output_type": "stream",
          "text": [
            "<class 'pandas.core.frame.DataFrame'>\n",
            "RangeIndex: 908 entries, 0 to 907\n",
            "Data columns (total 7 columns):\n",
            " #   Column  Non-Null Count  Dtype  \n",
            "---  ------  --------------  -----  \n",
            " 0   CIC0    908 non-null    float64\n",
            " 1   SM1_Dz  908 non-null    float64\n",
            " 2   GATS1i  908 non-null    float64\n",
            " 3   NdsCH   908 non-null    int64  \n",
            " 4   NdssC   908 non-null    int64  \n",
            " 5   MLOGP   908 non-null    float64\n",
            " 6   LC50    908 non-null    float64\n",
            "dtypes: float64(5), int64(2)\n",
            "memory usage: 49.8 KB\n"
          ],
          "name": "stdout"
        }
      ]
    },
    {
      "cell_type": "markdown",
      "metadata": {
        "id": "pU6oNyWQXV0z",
        "colab_type": "text"
      },
      "source": [
        "# ***Analisi esplorativa dei dati***"
      ]
    },
    {
      "cell_type": "code",
      "metadata": {
        "id": "yZadIg_6SbLo",
        "colab_type": "code",
        "colab": {
          "base_uri": "https://localhost:8080/",
          "height": 134
        },
        "outputId": "9b8c5454-d8f3-4328-94a4-2465357d0f21"
      },
      "source": [
        "for x in [\"CIC0\", \"SM1_Dz\", \"GATS1i\", \"NdsCH\", \"NdssC\", \"MLOGP\", \"LC50\"]:\n",
        "    print(x+\":\\t\"+ str(data[x].nunique()));"
      ],
      "execution_count": null,
      "outputs": [
        {
          "output_type": "stream",
          "text": [
            "CIC0:\t502\n",
            "SM1_Dz:\t186\n",
            "GATS1i:\t557\n",
            "NdsCH:\t5\n",
            "NdssC:\t7\n",
            "MLOGP:\t559\n",
            "LC50:\t827\n"
          ],
          "name": "stdout"
        }
      ]
    },
    {
      "cell_type": "markdown",
      "metadata": {
        "id": "zhvF60Xzr8WS",
        "colab_type": "text"
      },
      "source": [
        "Notiamo che la maggior parte delle feature contengono valori distinti, seppur in un range molto ristretto di valori, infatti hanno una deviazione standard relativamente bassa.\n",
        "\n",
        "Con il metodo _describe_ è possibile avere una rappresentazione statistica delle feature numeriche, ottenendo media, deviazione standard e la distribuzione in termini di massimi, minimi e percentili."
      ]
    },
    {
      "cell_type": "code",
      "metadata": {
        "id": "bnG_oZ2xJuxi",
        "colab_type": "code",
        "colab": {
          "base_uri": "https://localhost:8080/",
          "height": 284
        },
        "outputId": "f92145de-5809-40a2-a4dc-06b947868088"
      },
      "source": [
        "data.describe()"
      ],
      "execution_count": null,
      "outputs": [
        {
          "output_type": "execute_result",
          "data": {
            "text/html": [
              "<div>\n",
              "<style scoped>\n",
              "    .dataframe tbody tr th:only-of-type {\n",
              "        vertical-align: middle;\n",
              "    }\n",
              "\n",
              "    .dataframe tbody tr th {\n",
              "        vertical-align: top;\n",
              "    }\n",
              "\n",
              "    .dataframe thead th {\n",
              "        text-align: right;\n",
              "    }\n",
              "</style>\n",
              "<table border=\"1\" class=\"dataframe\">\n",
              "  <thead>\n",
              "    <tr style=\"text-align: right;\">\n",
              "      <th></th>\n",
              "      <th>CIC0</th>\n",
              "      <th>SM1_Dz</th>\n",
              "      <th>GATS1i</th>\n",
              "      <th>NdsCH</th>\n",
              "      <th>NdssC</th>\n",
              "      <th>MLOGP</th>\n",
              "      <th>LC50</th>\n",
              "    </tr>\n",
              "  </thead>\n",
              "  <tbody>\n",
              "    <tr>\n",
              "      <th>count</th>\n",
              "      <td>908.000000</td>\n",
              "      <td>908.000000</td>\n",
              "      <td>908.000000</td>\n",
              "      <td>908.000000</td>\n",
              "      <td>908.000000</td>\n",
              "      <td>908.000000</td>\n",
              "      <td>908.000000</td>\n",
              "    </tr>\n",
              "    <tr>\n",
              "      <th>mean</th>\n",
              "      <td>2.898129</td>\n",
              "      <td>0.628468</td>\n",
              "      <td>1.293591</td>\n",
              "      <td>0.229075</td>\n",
              "      <td>0.485683</td>\n",
              "      <td>2.109285</td>\n",
              "      <td>4.064431</td>\n",
              "    </tr>\n",
              "    <tr>\n",
              "      <th>std</th>\n",
              "      <td>0.756088</td>\n",
              "      <td>0.428459</td>\n",
              "      <td>0.394303</td>\n",
              "      <td>0.605335</td>\n",
              "      <td>0.861279</td>\n",
              "      <td>1.433181</td>\n",
              "      <td>1.455698</td>\n",
              "    </tr>\n",
              "    <tr>\n",
              "      <th>min</th>\n",
              "      <td>0.667000</td>\n",
              "      <td>0.000000</td>\n",
              "      <td>0.396000</td>\n",
              "      <td>0.000000</td>\n",
              "      <td>0.000000</td>\n",
              "      <td>-2.884000</td>\n",
              "      <td>0.053000</td>\n",
              "    </tr>\n",
              "    <tr>\n",
              "      <th>25%</th>\n",
              "      <td>2.347000</td>\n",
              "      <td>0.223000</td>\n",
              "      <td>0.950750</td>\n",
              "      <td>0.000000</td>\n",
              "      <td>0.000000</td>\n",
              "      <td>1.209000</td>\n",
              "      <td>3.151750</td>\n",
              "    </tr>\n",
              "    <tr>\n",
              "      <th>50%</th>\n",
              "      <td>2.934000</td>\n",
              "      <td>0.570000</td>\n",
              "      <td>1.240500</td>\n",
              "      <td>0.000000</td>\n",
              "      <td>0.000000</td>\n",
              "      <td>2.127000</td>\n",
              "      <td>3.987500</td>\n",
              "    </tr>\n",
              "    <tr>\n",
              "      <th>75%</th>\n",
              "      <td>3.407000</td>\n",
              "      <td>0.892750</td>\n",
              "      <td>1.562250</td>\n",
              "      <td>0.000000</td>\n",
              "      <td>1.000000</td>\n",
              "      <td>3.105000</td>\n",
              "      <td>4.907500</td>\n",
              "    </tr>\n",
              "    <tr>\n",
              "      <th>max</th>\n",
              "      <td>5.926000</td>\n",
              "      <td>2.171000</td>\n",
              "      <td>2.920000</td>\n",
              "      <td>4.000000</td>\n",
              "      <td>6.000000</td>\n",
              "      <td>6.515000</td>\n",
              "      <td>9.612000</td>\n",
              "    </tr>\n",
              "  </tbody>\n",
              "</table>\n",
              "</div>"
            ],
            "text/plain": [
              "             CIC0      SM1_Dz      GATS1i  ...       NdssC       MLOGP        LC50\n",
              "count  908.000000  908.000000  908.000000  ...  908.000000  908.000000  908.000000\n",
              "mean     2.898129    0.628468    1.293591  ...    0.485683    2.109285    4.064431\n",
              "std      0.756088    0.428459    0.394303  ...    0.861279    1.433181    1.455698\n",
              "min      0.667000    0.000000    0.396000  ...    0.000000   -2.884000    0.053000\n",
              "25%      2.347000    0.223000    0.950750  ...    0.000000    1.209000    3.151750\n",
              "50%      2.934000    0.570000    1.240500  ...    0.000000    2.127000    3.987500\n",
              "75%      3.407000    0.892750    1.562250  ...    1.000000    3.105000    4.907500\n",
              "max      5.926000    2.171000    2.920000  ...    6.000000    6.515000    9.612000\n",
              "\n",
              "[8 rows x 7 columns]"
            ]
          },
          "metadata": {
            "tags": []
          },
          "execution_count": 171
        }
      ]
    },
    {
      "cell_type": "markdown",
      "metadata": {
        "id": "thqOe5hgzx1Z",
        "colab_type": "text"
      },
      "source": [
        "Come ci si poteva aspettare dalla deviazione standard, la maggior parte dei valori non si discosta molto dalla media:"
      ]
    },
    {
      "cell_type": "code",
      "metadata": {
        "id": "g5i8yWk9gwQl",
        "colab_type": "code",
        "colab": {
          "base_uri": "https://localhost:8080/",
          "height": 265
        },
        "outputId": "a93bc4d1-3769-478a-e285-3f93fc0fd725"
      },
      "source": [
        "pd.cut(data[\"CIC0\"], 3).value_counts().plot.pie()"
      ],
      "execution_count": null,
      "outputs": [
        {
          "output_type": "execute_result",
          "data": {
            "text/plain": [
              "<matplotlib.axes._subplots.AxesSubplot at 0x7fefcac18f60>"
            ]
          },
          "metadata": {
            "tags": []
          },
          "execution_count": 172
        },
        {
          "output_type": "display_data",
          "data": {
            "image/png": "[encoded data removed]",
            "text/plain": [
              "<Figure size 432x288 with 1 Axes>"
            ]
          },
          "metadata": {
            "tags": []
          }
        }
      ]
    },
    {
      "cell_type": "markdown",
      "metadata": {
        "id": "Nzg9mJsO0h8U",
        "colab_type": "text"
      },
      "source": [
        "Il seguente boxplot visualizza le statistiche di base delle serie del dataframe, fornisce sostanzialmente molte delle informazioni fornite dal metodo describe ma in modo visivo:"
      ]
    },
    {
      "cell_type": "code",
      "metadata": {
        "id": "PoLc-ufLhEhZ",
        "colab_type": "code",
        "colab": {
          "base_uri": "https://localhost:8080/",
          "height": 284
        },
        "outputId": "057a47cd-dc95-4817-88cb-1b1d41c563ea"
      },
      "source": [
        "data.plot.box(showmeans=True)"
      ],
      "execution_count": null,
      "outputs": [
        {
          "output_type": "execute_result",
          "data": {
            "text/plain": [
              "<matplotlib.axes._subplots.AxesSubplot at 0x7fefcab84668>"
            ]
          },
          "metadata": {
            "tags": []
          },
          "execution_count": 173
        },
        {
          "output_type": "display_data",
          "data": {
            "image/png": "[encoded data removed]",
            "text/plain": [
              "<Figure size 432x288 with 1 Axes>"
            ]
          },
          "metadata": {
            "tags": [],
            "needs_background": "light"
          }
        }
      ]
    },
    {
      "cell_type": "markdown",
      "metadata": {
        "id": "BQEZUQQj2HE6",
        "colab_type": "text"
      },
      "source": [
        "Cerchiamo, attraverso i seguenti grafici a dispersione, di valutare se esiste una correlazione tra due variabili. Il primo grafico evidenzia che tendenzialmente i valori di LC50 sono tanto più bassi quanto più alti sono quelli di GATS1i, mentre dal secondo si evince che i valori di LC50 si alzano all'aumentare del valore della variabile indipendente MLOGP."
      ]
    },
    {
      "cell_type": "code",
      "metadata": {
        "id": "JHYs82AErn4k",
        "colab_type": "code",
        "colab": {
          "base_uri": "https://localhost:8080/",
          "height": 298
        },
        "outputId": "1b3cc273-da93-46ef-def3-873e6b18a533"
      },
      "source": [
        "data.plot.scatter(\"GATS1i\", \"LC50\")"
      ],
      "execution_count": null,
      "outputs": [
        {
          "output_type": "execute_result",
          "data": {
            "text/plain": [
              "<matplotlib.axes._subplots.AxesSubplot at 0x7fefccef5ac8>"
            ]
          },
          "metadata": {
            "tags": []
          },
          "execution_count": 174
        },
        {
          "output_type": "display_data",
          "data": {
            "image/png": "[encoded data removed]",
            "text/plain": [
              "<Figure size 432x288 with 1 Axes>"
            ]
          },
          "metadata": {
            "tags": [],
            "needs_background": "light"
          }
        }
      ]
    },
    {
      "cell_type": "code",
      "metadata": {
        "id": "T7oIXHnCwse-",
        "colab_type": "code",
        "colab": {
          "base_uri": "https://localhost:8080/",
          "height": 298
        },
        "outputId": "0d3e4662-a3c5-446a-db45-09c87c3100c9"
      },
      "source": [
        "data.plot.scatter(\"MLOGP\", \"LC50\")"
      ],
      "execution_count": null,
      "outputs": [
        {
          "output_type": "execute_result",
          "data": {
            "text/plain": [
              "<matplotlib.axes._subplots.AxesSubplot at 0x7fefca9bcc88>"
            ]
          },
          "metadata": {
            "tags": []
          },
          "execution_count": 175
        },
        {
          "output_type": "display_data",
          "data": {
            "image/png": "[encoded data removed]",
            "text/plain": [
              "<Figure size 432x288 with 1 Axes>"
            ]
          },
          "metadata": {
            "tags": [],
            "needs_background": "light"
          }
        }
      ]
    },
    {
      "cell_type": "markdown",
      "metadata": {
        "id": "ZeI2hSBi5sBJ",
        "colab_type": "text"
      },
      "source": [
        "Per quantificare la correlazione, possiamo calcolare il coefficiente di correlazione di Pearson.\n",
        "Valori vicini a 1 indicano correlazione diretta (Y cresce al crescere di X) mentre valori vicini a -1 indicano correlazione inversa (Y descresce al crescere di X)."
      ]
    },
    {
      "cell_type": "code",
      "metadata": {
        "id": "uEbjHnQD5tQa",
        "colab_type": "code",
        "colab": {
          "base_uri": "https://localhost:8080/",
          "height": 34
        },
        "outputId": "b007dcd8-557d-411c-e963-efdac7180c0e"
      },
      "source": [
        "lc50 = data[\"LC50\"].values\n",
        "mlogp = data[\"MLOGP\"].values\n",
        "gats1i = data[\"GATS1i\"].values\n",
        "\n",
        "np.mean((mlogp-mlogp.mean()) * (lc50-lc50.mean())) / (mlogp.std() * lc50.std())"
      ],
      "execution_count": null,
      "outputs": [
        {
          "output_type": "execute_result",
          "data": {
            "text/plain": [
              "0.6516640291894156"
            ]
          },
          "metadata": {
            "tags": []
          },
          "execution_count": 176
        }
      ]
    },
    {
      "cell_type": "code",
      "metadata": {
        "id": "yAo2AEuB7cnG",
        "colab_type": "code",
        "colab": {
          "base_uri": "https://localhost:8080/",
          "height": 34
        },
        "outputId": "32df0e0e-470f-451b-87a0-e4d3f264d08e"
      },
      "source": [
        "np.mean((gats1i-gats1i.mean()) * (lc50-lc50.mean())) / (gats1i.std() * lc50.std())"
      ],
      "execution_count": null,
      "outputs": [
        {
          "output_type": "execute_result",
          "data": {
            "text/plain": [
              "-0.39796469174961596"
            ]
          },
          "metadata": {
            "tags": []
          },
          "execution_count": 177
        }
      ]
    },
    {
      "cell_type": "markdown",
      "metadata": {
        "id": "Tz02IImG8khk",
        "colab_type": "text"
      },
      "source": [
        "I valori ottenuti confermano che esiste una correlazione diretta tra le variabili lc50 e mlogp, mentre esiste una correlazione (più debole) inversa tra lc50 e gats1i."
      ]
    },
    {
      "cell_type": "markdown",
      "metadata": {
        "id": "1_KCAiMlDnTw",
        "colab_type": "text"
      },
      "source": [
        "# ***Preparazione e creazione del modello***\n",
        "Andiamo ora a testare alcune tecniche di regressione per valutare quella che meglio si presta al tipo di problema. \n",
        "\n",
        "Definiamo una funzione che valuti l'accuratezza del modello secondo il calcolo del MSE, errore relativo e coefficiente r². \n",
        "Per verificare che il modello generalizzi correttamente i dati su cui è addestrato, utilizziamo il metodo hold-hout per effettuare una divisione in training e validation set."
      ]
    },
    {
      "cell_type": "code",
      "metadata": {
        "id": "bdHcTnIG4BGE",
        "colab_type": "code",
        "colab": {}
      },
      "source": [
        "from sklearn.metrics import mean_squared_error, r2_score\n",
        "\n",
        "def relative_error(y, y_pred):\n",
        "    return np.mean(np.abs((y - y_pred) / y))\n",
        "def print_eval(X, y, model):\n",
        "    print(\"Mean squared error: {:.5}\".format(mean_squared_error(model.predict(X), y)))\n",
        "    print(\"Relative error: {:.5%}\".format(relative_error(model.predict(X), y)))\n",
        "    print(\"R-squared coefficient: {:.5}\".format(model.score(X, y)))"
      ],
      "execution_count": null,
      "outputs": []
    },
    {
      "cell_type": "code",
      "metadata": {
        "id": "97UQ3eFR4BGH",
        "colab_type": "code",
        "colab": {}
      },
      "source": [
        "#hold-out validation\n",
        "from sklearn.model_selection import train_test_split\n",
        "\n",
        "X_train, X_val, y_train, y_val = train_test_split(\n",
        "    data.drop(\"LC50\", axis=1), \n",
        "    data[\"LC50\"], \n",
        "    test_size=1/3, random_state=42\n",
        ")"
      ],
      "execution_count": null,
      "outputs": []
    },
    {
      "cell_type": "markdown",
      "metadata": {
        "id": "ArGScmpZ0B2l",
        "colab_type": "text"
      },
      "source": [
        "***REGRESSIONE LINEARE***\n",
        "\n",
        "Iniziamo con un semplice modello di regressione lineare sfruttando la libreria scikit learn, visualizziamone l'accuratezza tramite le misure d'errore e i coefficienti dei parametri ottenuti, per dedurre il peso che ciascuna variabile ha nella predizione."
      ]
    },
    {
      "cell_type": "code",
      "metadata": {
        "id": "BH03wGMP4BGJ",
        "colab_type": "code",
        "colab": {
          "base_uri": "https://localhost:8080/",
          "height": 67
        },
        "outputId": "35905ba2-b4d1-4a79-fc76-c32d9b74c20e"
      },
      "source": [
        "\n",
        "from sklearn.pipeline import Pipeline\n",
        "from sklearn.linear_model import LinearRegression\n",
        "\n",
        "model1 = Pipeline([\n",
        "       (\"linreg\", LinearRegression())\n",
        "])\n",
        "model1.fit(X_train, y_train)\n",
        "print_eval(X_val, y_val, model1)"
      ],
      "execution_count": null,
      "outputs": [
        {
          "output_type": "stream",
          "text": [
            "Mean squared error: 0.923\n",
            "Relative error: 19.15832%\n",
            "R-squared coefficient: 0.56628\n"
          ],
          "name": "stdout"
        }
      ]
    },
    {
      "cell_type": "code",
      "metadata": {
        "id": "H7dR-cJM4BGM",
        "colab_type": "code",
        "colab": {
          "base_uri": "https://localhost:8080/",
          "height": 134
        },
        "outputId": "aef8ff8d-44d4-4293-bc8a-9a151b7280bb"
      },
      "source": [
        "pd.Series(model1.named_steps[\"linreg\"].coef_, X_train.columns)"
      ],
      "execution_count": null,
      "outputs": [
        {
          "output_type": "execute_result",
          "data": {
            "text/plain": [
              "CIC0      0.453563\n",
              "SM1_Dz    1.311278\n",
              "GATS1i   -0.670172\n",
              "NdsCH     0.354748\n",
              "NdssC     0.037094\n",
              "MLOGP     0.380334\n",
              "dtype: float64"
            ]
          },
          "metadata": {
            "tags": []
          },
          "execution_count": 181
        }
      ]
    },
    {
      "cell_type": "markdown",
      "metadata": {
        "id": "uiL94dq8H5ow",
        "colab_type": "text"
      },
      "source": [
        "***REGRESSIONE LINEARE CON STANDARDIZZAZIONE***\n",
        "\n",
        "Aggiungiamo al modello la standardizzazione. Non siamo in presenza di variabili con scale molto diverse, per cui non ci aspettiamo risultati molto differenti rispetto al modello senza standardizzazione."
      ]
    },
    {
      "cell_type": "code",
      "metadata": {
        "id": "C8jjZubP4BGP",
        "colab_type": "code",
        "colab": {
          "base_uri": "https://localhost:8080/",
          "height": 67
        },
        "outputId": "eb01ec66-e837-440e-d41d-f79429efd421"
      },
      "source": [
        "from sklearn.preprocessing import StandardScaler\n",
        "\n",
        "model2 = Pipeline([\n",
        "    (\"scale\", StandardScaler()),\n",
        "    (\"linreg\", LinearRegression())\n",
        "])\n",
        "\n",
        "model2.fit(X_train, y_train)\n",
        "print_eval(X_val, y_val, model2)"
      ],
      "execution_count": null,
      "outputs": [
        {
          "output_type": "stream",
          "text": [
            "Mean squared error: 0.923\n",
            "Relative error: 19.15832%\n",
            "R-squared coefficient: 0.56628\n"
          ],
          "name": "stdout"
        }
      ]
    },
    {
      "cell_type": "markdown",
      "metadata": {
        "id": "_7VX_AKINIL9",
        "colab_type": "text"
      },
      "source": [
        "***REGRESSIONE POLINOMIALE***\n",
        "\n",
        "Aggiungiamo alla pipeline il filtro per addestrare un modello polinomiale di secondo grado: otteniamo un modello leggermente più accurato."
      ]
    },
    {
      "cell_type": "code",
      "metadata": {
        "id": "r4zEweE54BGT",
        "colab_type": "code",
        "colab": {
          "base_uri": "https://localhost:8080/",
          "height": 67
        },
        "outputId": "a0467a2a-3f86-4c2b-bf40-3ce200840947"
      },
      "source": [
        "from sklearn.preprocessing import PolynomialFeatures\n",
        "\n",
        "model3 = Pipeline([\n",
        "    (\"poly\", PolynomialFeatures(degree=2, include_bias=False)),\n",
        "    (\"scale\", StandardScaler()),\n",
        "    (\"linreg\", LinearRegression())\n",
        "])\n",
        "model3.fit(X_train, y_train)\n",
        "print_eval(X_val, y_val, model3)"
      ],
      "execution_count": null,
      "outputs": [
        {
          "output_type": "stream",
          "text": [
            "Mean squared error: 0.90773\n",
            "Relative error: 17.42790%\n",
            "R-squared coefficient: 0.57345\n"
          ],
          "name": "stdout"
        }
      ]
    },
    {
      "cell_type": "markdown",
      "metadata": {
        "id": "ImhKtTzXPH3d",
        "colab_type": "text"
      },
      "source": [
        "***REGRESSIONE RIDGE***\n",
        "\n",
        "Aggiungiamo ora la regolarizzazione Ridge, che modifica la funzione d'errore su cui si basa l'addestramento aggiungendo una penalità per valori estremi dei parametri del modello. L'iperparametro alpha determina il peso generale della regolarizzazione.\n",
        "\n",
        "Utilizziamo la grid search per individuare i migliori iperparametri che massimizzino l'accuratezza del modello. Creiamo la griglia dei parametri, ovvero un dizionario in cui associamo ai nomi\n",
        "dei parametri variabili i valori che possono assumere. Per ogni valore possibile, scikit learn esegue la cross validation per calcolare il coefficiente r² medio del modello."
      ]
    },
    {
      "cell_type": "code",
      "metadata": {
        "id": "KUFA40INq16h",
        "colab_type": "code",
        "colab": {
          "base_uri": "https://localhost:8080/",
          "height": 34
        },
        "outputId": "3381fb03-5878-44aa-b7c2-461de3d4d439"
      },
      "source": [
        "from sklearn.linear_model import Ridge\n",
        "from sklearn.model_selection import GridSearchCV\n",
        "\n",
        "model4 = Pipeline([\n",
        "    (\"poly\", PolynomialFeatures(include_bias=False)),\n",
        "    (\"scale\", StandardScaler()),\n",
        "    (\"regr\", Ridge())\n",
        "])\n",
        "\n",
        "grid = {\n",
        "\"poly__degree\": [2, 3, 4, 5], # <- grado polinomio\n",
        "\"regr__alpha\": [0.1, 0.5, 1] # <- regolarizzazione\n",
        "}\n",
        "gs = GridSearchCV(model4, param_grid=grid, cv=5)\n",
        "gs.fit(X_train, y_train)\n",
        "gs.best_params_"
      ],
      "execution_count": null,
      "outputs": [
        {
          "output_type": "execute_result",
          "data": {
            "text/plain": [
              "{'poly__degree': 2, 'regr__alpha': 1}"
            ]
          },
          "metadata": {
            "tags": []
          },
          "execution_count": 184
        }
      ]
    },
    {
      "cell_type": "markdown",
      "metadata": {
        "id": "Bx-x3azym7XP",
        "colab_type": "text"
      },
      "source": [
        "Implementiamo il modello utilizzando gli iperparametri trovati dalla grid search."
      ]
    },
    {
      "cell_type": "code",
      "metadata": {
        "id": "91x8MMxAHEGe",
        "colab_type": "code",
        "colab": {
          "base_uri": "https://localhost:8080/",
          "height": 101
        },
        "outputId": "613086f7-85ee-4bfc-c4fd-ec66d4c9c03a"
      },
      "source": [
        "model4 = Pipeline([\n",
        "    (\"poly\", PolynomialFeatures(degree=2, include_bias=False)),\n",
        "    (\"scale\", StandardScaler()),\n",
        "    (\"regr\", Ridge(alpha=1))\n",
        "])\n",
        "%time model4.fit(X_train, y_train);\n",
        "print_eval(X_val, y_val, model4)"
      ],
      "execution_count": null,
      "outputs": [
        {
          "output_type": "stream",
          "text": [
            "CPU times: user 5.91 ms, sys: 4.03 ms, total: 9.93 ms\n",
            "Wall time: 4.99 ms\n",
            "Mean squared error: 0.8954\n",
            "Relative error: 17.36782%\n",
            "R-squared coefficient: 0.57925\n"
          ],
          "name": "stdout"
        }
      ]
    },
    {
      "cell_type": "markdown",
      "metadata": {
        "id": "5E-gMC64VbdR",
        "colab_type": "text"
      },
      "source": [
        "***REGRESSIONE LASSO***\n",
        "\n",
        "Proviamo ora la regolarizzazione Lasso, per verificare la presenza di variabili meno rilevanti. Il modello è già abbastanza semplice, per cui non ci aspettiamo grossi vantaggi, può essere utile comunque per capire quali siano le variabili più influenti."
      ]
    },
    {
      "cell_type": "code",
      "metadata": {
        "id": "rPdwysZN4BGY",
        "colab_type": "code",
        "colab": {
          "base_uri": "https://localhost:8080/",
          "height": 34
        },
        "outputId": "ddf4e6a0-3110-42b7-d815-12adeefc7360"
      },
      "source": [
        "from sklearn.linear_model import Lasso\n",
        "\n",
        "model5 = Pipeline([\n",
        "    (\"scale\", StandardScaler()),\n",
        "    (\"regr\", Lasso())\n",
        "])\n",
        "grid = {\n",
        "\"regr__alpha\": [0.1, 0.5, 1] \n",
        "}\n",
        "gs = GridSearchCV(model5, param_grid=grid, cv=5)\n",
        "gs.fit(X_train, y_train)\n",
        "gs.best_params_"
      ],
      "execution_count": null,
      "outputs": [
        {
          "output_type": "execute_result",
          "data": {
            "text/plain": [
              "{'regr__alpha': 0.1}"
            ]
          },
          "metadata": {
            "tags": []
          },
          "execution_count": 186
        }
      ]
    },
    {
      "cell_type": "code",
      "metadata": {
        "scrolled": true,
        "id": "gsD-9AgM4BGc",
        "colab_type": "code",
        "colab": {
          "base_uri": "https://localhost:8080/",
          "height": 67
        },
        "outputId": "a3213cd2-d2b0-4149-f796-91b2cc43b09a"
      },
      "source": [
        "model5 = Pipeline([\n",
        "    (\"scale\",  StandardScaler()),\n",
        "    (\"linreg\", Lasso(alpha=0.1))\n",
        "])\n",
        "model5.fit(X_train, y_train);\n",
        "print_eval(X_val, y_val, model5)"
      ],
      "execution_count": null,
      "outputs": [
        {
          "output_type": "stream",
          "text": [
            "Mean squared error: 0.98697\n",
            "Relative error: 19.61576%\n",
            "R-squared coefficient: 0.53622\n"
          ],
          "name": "stdout"
        }
      ]
    },
    {
      "cell_type": "code",
      "metadata": {
        "id": "v11pic3zGlBy",
        "colab_type": "code",
        "colab": {
          "base_uri": "https://localhost:8080/",
          "height": 134
        },
        "outputId": "e515c797-41f9-42d9-ee96-b894adf295e3"
      },
      "source": [
        "pd.Series(model5.named_steps[\"linreg\"].coef_, X_train.columns)"
      ],
      "execution_count": null,
      "outputs": [
        {
          "output_type": "execute_result",
          "data": {
            "text/plain": [
              "CIC0      0.156985\n",
              "SM1_Dz    0.420364\n",
              "GATS1i   -0.131987\n",
              "NdsCH     0.113158\n",
              "NdssC     0.006743\n",
              "MLOGP     0.614085\n",
              "dtype: float64"
            ]
          },
          "metadata": {
            "tags": []
          },
          "execution_count": 188
        }
      ]
    },
    {
      "cell_type": "markdown",
      "metadata": {
        "id": "hNu8d9CTZn9b",
        "colab_type": "text"
      },
      "source": [
        "***REGRESSIONE ELASTIC NET***\n",
        "\n",
        "La regressione Elastic Net combina insieme regressione Ridge e Lasso. In aggiunta all'iperparametro alpha, c'è anche l1_ratio, che determina il peso della regolarizzazione l1 rispetto al totale: con l1 = 0 avremo una regressione ridge, con l1 = 1 una regressione lasso."
      ]
    },
    {
      "cell_type": "code",
      "metadata": {
        "id": "4mPmc1urw5MU",
        "colab_type": "code",
        "colab": {
          "base_uri": "https://localhost:8080/",
          "height": 67
        },
        "outputId": "ee830915-7f0e-46ab-dd25-de56d2c62748"
      },
      "source": [
        "from sklearn.linear_model import ElasticNet\n",
        "\n",
        "model6 = Pipeline([\n",
        "    (\"poly\", PolynomialFeatures(include_bias=False)),\n",
        "    (\"scale\", StandardScaler()),\n",
        "    (\"linreg\", ElasticNet())\n",
        "]) \n",
        "\n",
        "grid = {\n",
        "\"poly__degree\": [2, 3], \n",
        "\"linreg__alpha\": [0.1, 0.5, 1], \n",
        "\"linreg__l1_ratio\": [0.01, 0.05, 0.1]\n",
        "}\n",
        "gs = GridSearchCV(model6, param_grid=grid, cv=5)\n",
        "gs.fit(X_train, y_train)\n",
        "print_eval(X_val, y_val, gs)"
      ],
      "execution_count": null,
      "outputs": [
        {
          "output_type": "stream",
          "text": [
            "Mean squared error: 0.89838\n",
            "Relative error: 17.36752%\n",
            "R-squared coefficient: 0.57785\n"
          ],
          "name": "stdout"
        }
      ]
    },
    {
      "cell_type": "code",
      "metadata": {
        "id": "le6oI6w044_y",
        "colab_type": "code",
        "colab": {
          "base_uri": "https://localhost:8080/",
          "height": 34
        },
        "outputId": "6a1d1edd-ae44-40d5-e149-7e71b0462973"
      },
      "source": [
        "gs.best_params_"
      ],
      "execution_count": null,
      "outputs": [
        {
          "output_type": "execute_result",
          "data": {
            "text/plain": [
              "{'linreg__alpha': 0.1, 'linreg__l1_ratio': 0.01, 'poly__degree': 3}"
            ]
          },
          "metadata": {
            "tags": []
          },
          "execution_count": 190
        }
      ]
    },
    {
      "cell_type": "markdown",
      "metadata": {
        "id": "n1IESoWrxC6Y",
        "colab_type": "text"
      },
      "source": [
        "Il valore di l1_ratio stabilito migliore è praticamente nullo, ciò significa che una regolarizzazione lasso non è utile per ottenere un'accuratezza migliore e conferma quanto visto nei modelli precedenti."
      ]
    },
    {
      "cell_type": "markdown",
      "metadata": {
        "id": "QTM-RNmJcQBJ",
        "colab_type": "text"
      },
      "source": [
        "***REGRESSIONE CON FUNZIONE KERNEL***\n",
        "\n",
        "Le funzioni kernel permettono di ottenere modelli non lineari senza l'aggiunta di nuove variabili. Utilizziamo la classe KernelRidge che implementa la regressione ridge con l'applicazione di una funzione kernel."
      ]
    },
    {
      "cell_type": "code",
      "metadata": {
        "id": "aF0iy_uJ4BGi",
        "colab_type": "code",
        "colab": {
          "base_uri": "https://localhost:8080/",
          "height": 101
        },
        "outputId": "bf64df29-fcef-4b6b-d2f1-0d0cf995a364"
      },
      "source": [
        "from sklearn.kernel_ridge import KernelRidge\n",
        "\n",
        "model7 = Pipeline([\n",
        "    (\"scale\", StandardScaler()),\n",
        "    (\"reg\", KernelRidge(alpha=20, kernel=\"poly\", degree=2))\n",
        "]) \n",
        "%time model7.fit(X_train, y_train)\n",
        "print_eval(X_val, y_val, model7)"
      ],
      "execution_count": null,
      "outputs": [
        {
          "output_type": "stream",
          "text": [
            "CPU times: user 24.1 ms, sys: 12.9 ms, total: 37 ms\n",
            "Wall time: 20.3 ms\n",
            "Mean squared error: 0.88764\n",
            "Relative error: 17.89458%\n",
            "R-squared coefficient: 0.58289\n"
          ],
          "name": "stdout"
        }
      ]
    },
    {
      "cell_type": "markdown",
      "metadata": {
        "id": "InH_g1EzA-lW",
        "colab_type": "text"
      },
      "source": [
        "Un'alternativa al metodo di validazione hold-out è k-fold: i dati sono divisi casualmente in k gruppi, ciascun gruppo è validato su un modello addestrato su tutti gli altri gruppi. Applichiamo questo metodo al modello migliore ottenuto fino ad ora, creando 5 fold. La funzione cross_val_score restituisce il coefficiente r² per ciascun gruppo, ne calcoliamo media e deviazione standard."
      ]
    },
    {
      "cell_type": "code",
      "metadata": {
        "id": "QrWPR0cBhA4N",
        "colab_type": "code",
        "colab": {
          "base_uri": "https://localhost:8080/",
          "height": 34
        },
        "outputId": "ce5c7bff-7b5e-44c0-9cb2-238bf2ae8e2b"
      },
      "source": [
        "#kfold \n",
        "\n",
        "X = data.drop([\"LC50\"], axis=1)\n",
        "y = data[\"LC50\"]\n",
        "\n",
        "from sklearn.model_selection import KFold\n",
        "kf = KFold(5, shuffle=True, random_state=42)\n",
        "\n",
        "from sklearn.model_selection import cross_val_score\n",
        "scores = cross_val_score(model7, X, y, cv=kf)\n",
        "scores"
      ],
      "execution_count": null,
      "outputs": [
        {
          "output_type": "execute_result",
          "data": {
            "text/plain": [
              "array([0.61492634, 0.39278407, 0.53019918, 0.64576453, 0.61417471])"
            ]
          },
          "metadata": {
            "tags": []
          },
          "execution_count": 192
        }
      ]
    },
    {
      "cell_type": "code",
      "metadata": {
        "id": "yn4yvc1Jl4R7",
        "colab_type": "code",
        "colab": {
          "base_uri": "https://localhost:8080/",
          "height": 34
        },
        "outputId": "72432988-c3d3-463b-a06c-acef44157841"
      },
      "source": [
        "\n",
        "scores.mean(), scores.std()"
      ],
      "execution_count": null,
      "outputs": [
        {
          "output_type": "execute_result",
          "data": {
            "text/plain": [
              "(0.5595697671429981, 0.09182122545160376)"
            ]
          },
          "metadata": {
            "tags": []
          },
          "execution_count": 193
        }
      ]
    },
    {
      "cell_type": "markdown",
      "metadata": {
        "id": "ccD3iHtCG_eQ",
        "colab_type": "text"
      },
      "source": [
        "Sebbene alcuni gruppi abbiano un coefficiente r² migliore, la media è leggermente inferiore rispetto al valore ottenuto con hold-out."
      ]
    },
    {
      "cell_type": "markdown",
      "metadata": {
        "id": "ovCVMiGFIW-0",
        "colab_type": "text"
      },
      "source": [
        "#***Confronto dei modelli***\n",
        "L'accuratezza ci dà un'indicazione di quanto il modello sia efficace nella previsione, ma tale valore è comunque una stima che dipende anche dal validation set usato. Fissiamo un livello di confidenza del 95%, ovvero una percentuale di certezza che vogliamo avere. \n",
        "\n",
        "Vogliamo individuare l'intervallo di confidenza, cioè l'intervallo di valori in cui l'accuratezza \"reale\" del modello si trova col 95\\% di probabilità.\n",
        "\n",
        "La funzione diff_interval calcola l'intervallo di confidenza della differenza di accuratezza tra due modelli.\n",
        "La funzione model_conf_interval restituisce tale intervallo.\n"
      ]
    },
    {
      "cell_type": "code",
      "metadata": {
        "id": "AjVcytY7IpWB",
        "colab_type": "code",
        "colab": {
          "base_uri": "https://localhost:8080/",
          "height": 34
        },
        "outputId": "55a66932-eb6d-4fed-f466-8f545fa8f239"
      },
      "source": [
        "from scipy.stats import norm\n",
        "\n",
        "def diff_interval(a1, a2, N1, N2, Z):\n",
        "    d = abs(a1 - a2)\n",
        "    sd = np.sqrt(a1 * (1-a1) / N1 + a2 * (1-a2) / N2)\n",
        "    return d - Z * sd, d + Z * sd\n",
        "\n",
        "def model_diff_interval(m1, m2, X, y, level=0.95):\n",
        "    a1 = m1.score(X, y)\n",
        "    a2 = m2.score(X, y)\n",
        "    N = len(X)\n",
        "    Z = norm.ppf((1 + level) / 2)\n",
        "    return diff_interval(a1, a2, N, N, Z)\n",
        "\n",
        "model_diff_interval(model4, model7, X_val, y_val)"
      ],
      "execution_count": null,
      "outputs": [
        {
          "output_type": "execute_result",
          "data": {
            "text/plain": [
              "(-0.07491976021354732, 0.0822082915374375)"
            ]
          },
          "metadata": {
            "tags": []
          },
          "execution_count": 194
        }
      ]
    },
    {
      "cell_type": "markdown",
      "metadata": {
        "id": "hvinLe3aXgks",
        "colab_type": "text"
      },
      "source": [
        "L'intervallo include lo 0, per cui la differenza tra le accuratezze non è significativa: il modello con accuratezza più alta non è effettivamente migliore.\n",
        "\n"
      ]
    },
    {
      "cell_type": "markdown",
      "metadata": {
        "id": "NLDkLmynIsTs",
        "colab_type": "text"
      },
      "source": [
        "\n",
        "# ***Reti neurali***\n",
        "\n",
        "Proviamo ora con le reti neurali, sfruttando la libreria keras."
      ]
    },
    {
      "cell_type": "code",
      "metadata": {
        "id": "pNRvxuIH48N5",
        "colab_type": "code",
        "colab": {}
      },
      "source": [
        "!pip install tensorflow"
      ],
      "execution_count": null,
      "outputs": []
    },
    {
      "cell_type": "code",
      "metadata": {
        "id": "1l06UGTu5hJF",
        "colab_type": "code",
        "colab": {}
      },
      "source": [
        "import tensorflow as tf"
      ],
      "execution_count": null,
      "outputs": []
    },
    {
      "cell_type": "code",
      "metadata": {
        "id": "E4MqGrW06lTF",
        "colab_type": "code",
        "colab": {}
      },
      "source": [
        "scaler_X = StandardScaler()\n",
        "X_train = scaler_X.fit_transform(X_train)\n",
        "X_val = scaler_X.transform(X_val)\n",
        "\n",
        "scaler_y = StandardScaler()\n",
        "y_train = scaler_y.fit_transform(y_train[:, None]).ravel()\n",
        "y_val = scaler_y.transform(y_val[:, None]).ravel()"
      ],
      "execution_count": null,
      "outputs": []
    },
    {
      "cell_type": "markdown",
      "metadata": {
        "id": "OkFLum0QXYxQ",
        "colab_type": "text"
      },
      "source": [
        "Creiamo inizialmente un modello Sequential contenente un unico strato e un unico nodo, che riceve in input le 6 variabili indipendenti e restituisce l'output della rete. Quando compiliamo la rete specifichiamo l'algoritmo di ottimizzazione e la misura di errore da minimizzare, in questo caso l'errore quadratico medio."
      ]
    },
    {
      "cell_type": "code",
      "metadata": {
        "id": "Y_on-w_A7ht-",
        "colab_type": "code",
        "colab": {
          "base_uri": "https://localhost:8080/",
          "height": 386
        },
        "outputId": "84aa0f25-850d-4ade-910d-391de88e5c20"
      },
      "source": [
        "from tensorflow.keras.models import Sequential\n",
        "from tensorflow.keras.layers import Dense\n",
        "\n",
        "model10 = Sequential([\n",
        "    Dense(1, input_dim=6)\n",
        "])\n",
        "model10.compile(optimizer=\"adam\", loss=\"mean_squared_error\")\n",
        "model10.fit(X_train, y_train, batch_size=3, epochs=10)\n",
        "model10.evaluate(X_val, y_val)\n"
      ],
      "execution_count": null,
      "outputs": [
        {
          "output_type": "stream",
          "text": [
            "Epoch 1/10\n",
            "202/202 [==============================] - 0s 951us/step - loss: 2.0301\n",
            "Epoch 2/10\n",
            "202/202 [==============================] - 0s 971us/step - loss: 1.4898\n",
            "Epoch 3/10\n",
            "202/202 [==============================] - 0s 962us/step - loss: 1.1217\n",
            "Epoch 4/10\n",
            "202/202 [==============================] - 0s 1ms/step - loss: 0.8795\n",
            "Epoch 5/10\n",
            "202/202 [==============================] - 0s 919us/step - loss: 0.7267\n",
            "Epoch 6/10\n",
            "202/202 [==============================] - 0s 952us/step - loss: 0.6310\n",
            "Epoch 7/10\n",
            "202/202 [==============================] - 0s 932us/step - loss: 0.5738\n",
            "Epoch 8/10\n",
            "202/202 [==============================] - 0s 907us/step - loss: 0.5380\n",
            "Epoch 9/10\n",
            "202/202 [==============================] - 0s 970us/step - loss: 0.5148\n",
            "Epoch 10/10\n",
            "202/202 [==============================] - 0s 951us/step - loss: 0.4993\n",
            "10/10 [==============================] - 0s 1ms/step - loss: 0.5500\n"
          ],
          "name": "stdout"
        },
        {
          "output_type": "execute_result",
          "data": {
            "text/plain": [
              "0.5500054359436035"
            ]
          },
          "metadata": {
            "tags": []
          },
          "execution_count": 198
        }
      ]
    },
    {
      "cell_type": "code",
      "metadata": {
        "id": "BSUb39wmE8ll",
        "colab_type": "code",
        "colab": {
          "base_uri": "https://localhost:8080/",
          "height": 34
        },
        "outputId": "12c878b4-e671-4e4b-ec49-c677074def53"
      },
      "source": [
        "r2_score(y_val, model10.predict(X_val))"
      ],
      "execution_count": null,
      "outputs": [
        {
          "output_type": "execute_result",
          "data": {
            "text/plain": [
              "0.45474742595222006"
            ]
          },
          "metadata": {
            "tags": []
          },
          "execution_count": 199
        }
      ]
    },
    {
      "cell_type": "markdown",
      "metadata": {
        "id": "7_mMK9anfy-6",
        "colab_type": "text"
      },
      "source": [
        "Abbiamo migliorato MSE ma peggiorato il coefficiente r² rispetto al modello migliore con le funzioni kernel. Proviamo ad aggiungere uno strato e una funzione di attivazione di tipo sigmoide. Avremo così un modello sequenziale composto da due strati di tipo Dense."
      ]
    },
    {
      "cell_type": "code",
      "metadata": {
        "id": "qb_sozQztSYd",
        "colab_type": "code",
        "colab": {
          "base_uri": "https://localhost:8080/",
          "height": 386
        },
        "outputId": "a219a5c0-2b25-42ce-d518-38f52b9d0565"
      },
      "source": [
        "model12 = Sequential([\n",
        "    Dense(16, activation=\"sigmoid\", input_dim=6),\n",
        "    Dense(1)\n",
        "])\n",
        "model12.compile(optimizer=\"adam\", loss=\"mean_squared_error\")\n",
        "model12.fit(X_train, y_train, batch_size=3, epochs=10)\n",
        "model12.evaluate(X_val, y_val)"
      ],
      "execution_count": null,
      "outputs": [
        {
          "output_type": "stream",
          "text": [
            "Epoch 1/10\n",
            "202/202 [==============================] - 0s 1ms/step - loss: 0.9665\n",
            "Epoch 2/10\n",
            "202/202 [==============================] - 0s 1ms/step - loss: 0.5890\n",
            "Epoch 3/10\n",
            "202/202 [==============================] - 0s 962us/step - loss: 0.4617\n",
            "Epoch 4/10\n",
            "202/202 [==============================] - 0s 1ms/step - loss: 0.4251\n",
            "Epoch 5/10\n",
            "202/202 [==============================] - 0s 995us/step - loss: 0.4146\n",
            "Epoch 6/10\n",
            "202/202 [==============================] - 0s 1ms/step - loss: 0.4122\n",
            "Epoch 7/10\n",
            "202/202 [==============================] - 0s 1ms/step - loss: 0.4098\n",
            "Epoch 8/10\n",
            "202/202 [==============================] - 0s 994us/step - loss: 0.4093\n",
            "Epoch 9/10\n",
            "202/202 [==============================] - 0s 995us/step - loss: 0.4067\n",
            "Epoch 10/10\n",
            "202/202 [==============================] - 0s 963us/step - loss: 0.4074\n",
            "10/10 [==============================] - 0s 1ms/step - loss: 0.4239\n"
          ],
          "name": "stdout"
        },
        {
          "output_type": "execute_result",
          "data": {
            "text/plain": [
              "0.423892080783844"
            ]
          },
          "metadata": {
            "tags": []
          },
          "execution_count": 200
        }
      ]
    },
    {
      "cell_type": "code",
      "metadata": {
        "id": "hVHuIYvQt39V",
        "colab_type": "code",
        "colab": {
          "base_uri": "https://localhost:8080/",
          "height": 34
        },
        "outputId": "2e7c20b3-8bc0-4ab0-e3af-21fee2d0ed78"
      },
      "source": [
        "r2_score(y_val, model12.predict(X_val))"
      ],
      "execution_count": null,
      "outputs": [
        {
          "output_type": "execute_result",
          "data": {
            "text/plain": [
              "0.5797710180970848"
            ]
          },
          "metadata": {
            "tags": []
          },
          "execution_count": 201
        }
      ]
    },
    {
      "cell_type": "markdown",
      "metadata": {
        "id": "LyKWrd1ekqNU",
        "colab_type": "text"
      },
      "source": [
        "Abbiamo ottenuto un modello più accurato, proviamo ora a cambiare funzione d'attivazione."
      ]
    },
    {
      "cell_type": "code",
      "metadata": {
        "id": "jLzQfSrXxkRE",
        "colab_type": "code",
        "colab": {
          "base_uri": "https://localhost:8080/",
          "height": 386
        },
        "outputId": "9605b672-8d4d-4c8a-cdee-3bda90b9b216"
      },
      "source": [
        "model13 = Sequential([\n",
        "    Dense(16, activation=\"relu\", input_dim=6),\n",
        "    Dense(1)\n",
        "])\n",
        "model13.compile(optimizer=\"adam\", loss=\"mean_squared_error\")\n",
        "model13.fit(X_train, y_train, batch_size=3, epochs=10)\n",
        "model13.evaluate(X_val, y_val)"
      ],
      "execution_count": null,
      "outputs": [
        {
          "output_type": "stream",
          "text": [
            "Epoch 1/10\n",
            "202/202 [==============================] - 0s 1ms/step - loss: 0.8770\n",
            "Epoch 2/10\n",
            "202/202 [==============================] - 0s 1ms/step - loss: 0.5060\n",
            "Epoch 3/10\n",
            "202/202 [==============================] - 0s 1ms/step - loss: 0.4322\n",
            "Epoch 4/10\n",
            "202/202 [==============================] - 0s 985us/step - loss: 0.4135\n",
            "Epoch 5/10\n",
            "202/202 [==============================] - 0s 1ms/step - loss: 0.4093\n",
            "Epoch 6/10\n",
            "202/202 [==============================] - 0s 983us/step - loss: 0.4009\n",
            "Epoch 7/10\n",
            "202/202 [==============================] - 0s 974us/step - loss: 0.3945\n",
            "Epoch 8/10\n",
            "202/202 [==============================] - 0s 1ms/step - loss: 0.3920\n",
            "Epoch 9/10\n",
            "202/202 [==============================] - 0s 993us/step - loss: 0.3889\n",
            "Epoch 10/10\n",
            "202/202 [==============================] - 0s 976us/step - loss: 0.3840\n",
            "10/10 [==============================] - 0s 2ms/step - loss: 0.4122\n"
          ],
          "name": "stdout"
        },
        {
          "output_type": "execute_result",
          "data": {
            "text/plain": [
              "0.4122079908847809"
            ]
          },
          "metadata": {
            "tags": []
          },
          "execution_count": 202
        }
      ]
    },
    {
      "cell_type": "code",
      "metadata": {
        "id": "6GWadJ9EyT_o",
        "colab_type": "code",
        "colab": {
          "base_uri": "https://localhost:8080/",
          "height": 34
        },
        "outputId": "234cf9ec-50ef-4018-bbcc-02ee5e737d65"
      },
      "source": [
        "r2_score(y_val, model13.predict(X_val))"
      ],
      "execution_count": null,
      "outputs": [
        {
          "output_type": "execute_result",
          "data": {
            "text/plain": [
              "0.5913541315777142"
            ]
          },
          "metadata": {
            "tags": []
          },
          "execution_count": 203
        }
      ]
    },
    {
      "cell_type": "markdown",
      "metadata": {
        "id": "k-Av7MQzlRmv",
        "colab_type": "text"
      },
      "source": [
        "Vediamo se riusciamo a migliorarlo ulteriormente aggiungendo altri strati."
      ]
    },
    {
      "cell_type": "code",
      "metadata": {
        "id": "vQe5_qHP4X6_",
        "colab_type": "code",
        "colab": {
          "base_uri": "https://localhost:8080/",
          "height": 386
        },
        "outputId": "5c015774-0d1d-408d-d665-0cdaffa8aec3"
      },
      "source": [
        "model14 = Sequential([\n",
        "    Dense(512, activation=\"relu\", input_dim=6),\n",
        "    Dense(128, activation=\"relu\"),\n",
        "    Dense(32, activation=\"relu\"),\n",
        "    Dense(1)\n",
        "])\n",
        "model14.compile(optimizer=\"adam\", loss=\"mean_squared_error\")\n",
        "fit_history = model14.fit(X_train, y_train, batch_size=100, epochs=10)\n",
        "model14.evaluate(X_val, y_val)"
      ],
      "execution_count": null,
      "outputs": [
        {
          "output_type": "stream",
          "text": [
            "Epoch 1/10\n",
            "7/7 [==============================] - 0s 3ms/step - loss: 0.7804\n",
            "Epoch 2/10\n",
            "7/7 [==============================] - 0s 4ms/step - loss: 0.4501\n",
            "Epoch 3/10\n",
            "7/7 [==============================] - 0s 3ms/step - loss: 0.4316\n",
            "Epoch 4/10\n",
            "7/7 [==============================] - 0s 3ms/step - loss: 0.3831\n",
            "Epoch 5/10\n",
            "7/7 [==============================] - 0s 3ms/step - loss: 0.3880\n",
            "Epoch 6/10\n",
            "7/7 [==============================] - 0s 3ms/step - loss: 0.3845\n",
            "Epoch 7/10\n",
            "7/7 [==============================] - 0s 4ms/step - loss: 0.3648\n",
            "Epoch 8/10\n",
            "7/7 [==============================] - 0s 3ms/step - loss: 0.3480\n",
            "Epoch 9/10\n",
            "7/7 [==============================] - 0s 3ms/step - loss: 0.3408\n",
            "Epoch 10/10\n",
            "7/7 [==============================] - 0s 3ms/step - loss: 0.3401\n",
            "10/10 [==============================] - 0s 1ms/step - loss: 0.4030\n"
          ],
          "name": "stdout"
        },
        {
          "output_type": "execute_result",
          "data": {
            "text/plain": [
              "0.4029543399810791"
            ]
          },
          "metadata": {
            "tags": []
          },
          "execution_count": 204
        }
      ]
    },
    {
      "cell_type": "code",
      "metadata": {
        "id": "F0S6TR7u9VZO",
        "colab_type": "code",
        "colab": {
          "base_uri": "https://localhost:8080/",
          "height": 34
        },
        "outputId": "be89221f-3c42-48e8-d7e2-6eafaecda9ce"
      },
      "source": [
        "\n",
        "\n",
        "r2_score(y_val, model14.predict(X_val))"
      ],
      "execution_count": null,
      "outputs": [
        {
          "output_type": "execute_result",
          "data": {
            "text/plain": [
              "0.6005277482099192"
            ]
          },
          "metadata": {
            "tags": []
          },
          "execution_count": 205
        }
      ]
    }
  ]
}